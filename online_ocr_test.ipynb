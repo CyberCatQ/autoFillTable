{
 "cells": [
  {
   "cell_type": "code",
   "execution_count": 1,
   "metadata": {},
   "outputs": [],
   "source": [
    "from generator import OCR, ChongQingCfg"
   ]
  },
  {
   "cell_type": "code",
   "execution_count": 2,
   "metadata": {},
   "outputs": [],
   "source": [
    "file = 'test/test2.png'"
   ]
  },
  {
   "cell_type": "code",
   "execution_count": 3,
   "metadata": {},
   "outputs": [],
   "source": [
    "cfg = ChongQingCfg()\n",
    "ocr = OCR(file, cfg)"
   ]
  },
  {
   "cell_type": "code",
   "execution_count": 4,
   "metadata": {},
   "outputs": [
    {
     "data": {
      "text/html": [
       "<pre style=\"white-space:pre;overflow-x:auto;line-height:normal;font-family:Menlo,'DejaVu Sans Mono',consolas,'Courier New',monospace\">\n",
       "<span style=\"font-weight: bold\">[</span>\n",
       "    <span style=\"font-weight: bold\">{</span><span style=\"color: #008000; text-decoration-color: #008000\">'name'</span>: <span style=\"color: #008000; text-decoration-color: #008000\">'黎学亚'</span>, <span style=\"color: #008000; text-decoration-color: #008000\">'count'</span>: <span style=\"color: #008000; text-decoration-color: #008000\">'1'</span>, <span style=\"color: #008000; text-decoration-color: #008000\">'weight'</span>: <span style=\"color: #008000; text-decoration-color: #008000\">'35'</span>, <span style=\"color: #008000; text-decoration-color: #008000\">'price'</span>: <span style=\"color: #008000; text-decoration-color: #008000\">'83'</span><span style=\"font-weight: bold\">}</span>,\n",
       "    <span style=\"font-weight: bold\">{</span><span style=\"color: #008000; text-decoration-color: #008000\">'name'</span>: <span style=\"color: #008000; text-decoration-color: #008000\">'高乐道'</span>, <span style=\"color: #008000; text-decoration-color: #008000\">'count'</span>: <span style=\"color: #008000; text-decoration-color: #008000\">'1'</span>, <span style=\"color: #008000; text-decoration-color: #008000\">'weight'</span>: <span style=\"color: #008000; text-decoration-color: #008000\">'53'</span>, <span style=\"color: #008000; text-decoration-color: #008000\">'price'</span>: <span style=\"color: #008000; text-decoration-color: #008000\">'125'</span><span style=\"font-weight: bold\">}</span>,\n",
       "    <span style=\"font-weight: bold\">{</span><span style=\"color: #008000; text-decoration-color: #008000\">'name'</span>: <span style=\"color: #008000; text-decoration-color: #008000\">'合计'</span>, <span style=\"color: #008000; text-decoration-color: #008000\">'count'</span>: <span style=\"color: #008000; text-decoration-color: #008000\">'2'</span>, <span style=\"color: #008000; text-decoration-color: #008000\">'weight'</span>: <span style=\"color: #008000; text-decoration-color: #008000\">'88'</span>, <span style=\"color: #008000; text-decoration-color: #008000\">'price'</span>: <span style=\"color: #008000; text-decoration-color: #008000\">'208'</span><span style=\"font-weight: bold\">}</span>\n",
       "<span style=\"font-weight: bold\">]</span>\n",
       "</pre>\n"
      ],
      "text/plain": [
       "\n",
       "\u001b[1m[\u001b[0m\n",
       "    \u001b[1m{\u001b[0m\u001b[32m'name'\u001b[0m: \u001b[32m'黎学亚'\u001b[0m, \u001b[32m'count'\u001b[0m: \u001b[32m'1'\u001b[0m, \u001b[32m'weight'\u001b[0m: \u001b[32m'35'\u001b[0m, \u001b[32m'price'\u001b[0m: \u001b[32m'83'\u001b[0m\u001b[1m}\u001b[0m,\n",
       "    \u001b[1m{\u001b[0m\u001b[32m'name'\u001b[0m: \u001b[32m'高乐道'\u001b[0m, \u001b[32m'count'\u001b[0m: \u001b[32m'1'\u001b[0m, \u001b[32m'weight'\u001b[0m: \u001b[32m'53'\u001b[0m, \u001b[32m'price'\u001b[0m: \u001b[32m'125'\u001b[0m\u001b[1m}\u001b[0m,\n",
       "    \u001b[1m{\u001b[0m\u001b[32m'name'\u001b[0m: \u001b[32m'合计'\u001b[0m, \u001b[32m'count'\u001b[0m: \u001b[32m'2'\u001b[0m, \u001b[32m'weight'\u001b[0m: \u001b[32m'88'\u001b[0m, \u001b[32m'price'\u001b[0m: \u001b[32m'208'\u001b[0m\u001b[1m}\u001b[0m\n",
       "\u001b[1m]\u001b[0m\n"
      ]
     },
     "metadata": {},
     "output_type": "display_data"
    }
   ],
   "source": [
    "ocr.ocr()"
   ]
  }
 ],
 "metadata": {
  "interpreter": {
   "hash": "9c4008e16f11d2720db9d703df8b44b206597e5ced9248a6ef01c3329e871fb8"
  },
  "kernelspec": {
   "display_name": "Python 3.10.1 64-bit",
   "language": "python",
   "name": "python3"
  },
  "language_info": {
   "codemirror_mode": {
    "name": "ipython",
    "version": 3
   },
   "file_extension": ".py",
   "mimetype": "text/x-python",
   "name": "python",
   "nbconvert_exporter": "python",
   "pygments_lexer": "ipython3",
   "version": "3.10.1"
  },
  "orig_nbformat": 4
 },
 "nbformat": 4,
 "nbformat_minor": 2
}
