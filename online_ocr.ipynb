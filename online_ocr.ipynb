{
 "cells": [
  {
   "cell_type": "code",
   "execution_count": 1,
   "metadata": {},
   "outputs": [],
   "source": [
    "import chardet\n",
    "from aip import AipOcr\n",
    "import re"
   ]
  },
  {
   "cell_type": "code",
   "execution_count": 2,
   "metadata": {},
   "outputs": [],
   "source": [
    "app_id = '25890848'\n",
    "api_key = '6VGCcSckGdlVgMtXPXrLo47y'\n",
    "secret_key = 'i3Xhu52mreGEPhHRXPI97SZGymjtIn0K'"
   ]
  },
  {
   "cell_type": "code",
   "execution_count": 3,
   "metadata": {},
   "outputs": [],
   "source": [
    "client = AipOcr(app_id, api_key, secret_key)\n",
    "\n",
    "with open('./test/test2.png', 'rb') as f:\n",
    "    image = f.read() \n",
    "    result = client.form(image)"
   ]
  },
  {
   "cell_type": "code",
   "execution_count": 4,
   "metadata": {},
   "outputs": [],
   "source": [
    "words_result = [dic['words'] for dic in result['forms_result'][0]['body'] if re.match(r'[\\u4e00-\\u9fa5]', dic['words'])]\n",
    "number_result = [dic['words'] for dic in result['forms_result'][0]['body'] if re.match(r'[0-9]', dic['words'])]"
   ]
  },
  {
   "cell_type": "code",
   "execution_count": 5,
   "metadata": {},
   "outputs": [
    {
     "data": {
      "text/html": [
       "<pre style=\"white-space:pre;overflow-x:auto;line-height:normal;font-family:Menlo,'DejaVu Sans Mono',consolas,'Courier New',monospace\"><span style=\"font-weight: bold\">[</span><span style=\"color: #008000; text-decoration-color: #008000\">'黎学亚'</span>, <span style=\"color: #008000; text-decoration-color: #008000\">'高乐道'</span>, <span style=\"color: #008000; text-decoration-color: #008000\">'合计'</span><span style=\"font-weight: bold\">]</span>\n",
       "</pre>\n"
      ],
      "text/plain": [
       "\u001b[1m[\u001b[0m\u001b[32m'黎学亚'\u001b[0m, \u001b[32m'高乐道'\u001b[0m, \u001b[32m'合计'\u001b[0m\u001b[1m]\u001b[0m\n"
      ]
     },
     "metadata": {},
     "output_type": "display_data"
    }
   ],
   "source": [
    "words_result"
   ]
  },
  {
   "cell_type": "code",
   "execution_count": 6,
   "metadata": {},
   "outputs": [
    {
     "data": {
      "text/html": [
       "<pre style=\"white-space:pre;overflow-x:auto;line-height:normal;font-family:Menlo,'DejaVu Sans Mono',consolas,'Courier New',monospace\"><span style=\"font-weight: bold\">[</span><span style=\"color: #008000; text-decoration-color: #008000\">'1'</span>, <span style=\"color: #008000; text-decoration-color: #008000\">'35'</span>, <span style=\"color: #008000; text-decoration-color: #008000\">'83'</span>, <span style=\"color: #008000; text-decoration-color: #008000\">'1'</span>, <span style=\"color: #008000; text-decoration-color: #008000\">'53'</span>, <span style=\"color: #008000; text-decoration-color: #008000\">'125'</span>, <span style=\"color: #008000; text-decoration-color: #008000\">'2'</span>, <span style=\"color: #008000; text-decoration-color: #008000\">'88'</span>, <span style=\"color: #008000; text-decoration-color: #008000\">'208'</span><span style=\"font-weight: bold\">]</span>\n",
       "</pre>\n"
      ],
      "text/plain": [
       "\u001b[1m[\u001b[0m\u001b[32m'1'\u001b[0m, \u001b[32m'35'\u001b[0m, \u001b[32m'83'\u001b[0m, \u001b[32m'1'\u001b[0m, \u001b[32m'53'\u001b[0m, \u001b[32m'125'\u001b[0m, \u001b[32m'2'\u001b[0m, \u001b[32m'88'\u001b[0m, \u001b[32m'208'\u001b[0m\u001b[1m]\u001b[0m\n"
      ]
     },
     "metadata": {},
     "output_type": "display_data"
    }
   ],
   "source": [
    "number_result"
   ]
  },
  {
   "cell_type": "code",
   "execution_count": 13,
   "metadata": {},
   "outputs": [],
   "source": [
    "parse_result = []\n",
    "for index, name in enumerate(words_result):\n",
    "    _index = index * 3\n",
    "    parse_result.append({'name': name, 'count': number_result[_index], 'weight': number_result[_index + 1], 'price': number_result[_index + 2]})\n"
   ]
  },
  {
   "cell_type": "code",
   "execution_count": 14,
   "metadata": {},
   "outputs": [
    {
     "data": {
      "text/html": [
       "<pre style=\"white-space:pre;overflow-x:auto;line-height:normal;font-family:Menlo,'DejaVu Sans Mono',consolas,'Courier New',monospace\">\n",
       "<span style=\"font-weight: bold\">[</span>\n",
       "    <span style=\"font-weight: bold\">{</span><span style=\"color: #008000; text-decoration-color: #008000\">'name'</span>: <span style=\"color: #008000; text-decoration-color: #008000\">'黎学亚'</span>, <span style=\"color: #008000; text-decoration-color: #008000\">'count'</span>: <span style=\"color: #008000; text-decoration-color: #008000\">'1'</span>, <span style=\"color: #008000; text-decoration-color: #008000\">'weight'</span>: <span style=\"color: #008000; text-decoration-color: #008000\">'35'</span>, <span style=\"color: #008000; text-decoration-color: #008000\">'price'</span>: <span style=\"color: #008000; text-decoration-color: #008000\">'83'</span><span style=\"font-weight: bold\">}</span>,\n",
       "    <span style=\"font-weight: bold\">{</span><span style=\"color: #008000; text-decoration-color: #008000\">'name'</span>: <span style=\"color: #008000; text-decoration-color: #008000\">'高乐道'</span>, <span style=\"color: #008000; text-decoration-color: #008000\">'count'</span>: <span style=\"color: #008000; text-decoration-color: #008000\">'1'</span>, <span style=\"color: #008000; text-decoration-color: #008000\">'weight'</span>: <span style=\"color: #008000; text-decoration-color: #008000\">'53'</span>, <span style=\"color: #008000; text-decoration-color: #008000\">'price'</span>: <span style=\"color: #008000; text-decoration-color: #008000\">'125'</span><span style=\"font-weight: bold\">}</span>,\n",
       "    <span style=\"font-weight: bold\">{</span><span style=\"color: #008000; text-decoration-color: #008000\">'name'</span>: <span style=\"color: #008000; text-decoration-color: #008000\">'合计'</span>, <span style=\"color: #008000; text-decoration-color: #008000\">'count'</span>: <span style=\"color: #008000; text-decoration-color: #008000\">'2'</span>, <span style=\"color: #008000; text-decoration-color: #008000\">'weight'</span>: <span style=\"color: #008000; text-decoration-color: #008000\">'88'</span>, <span style=\"color: #008000; text-decoration-color: #008000\">'price'</span>: <span style=\"color: #008000; text-decoration-color: #008000\">'208'</span><span style=\"font-weight: bold\">}</span>\n",
       "<span style=\"font-weight: bold\">]</span>\n",
       "</pre>\n"
      ],
      "text/plain": [
       "\n",
       "\u001b[1m[\u001b[0m\n",
       "    \u001b[1m{\u001b[0m\u001b[32m'name'\u001b[0m: \u001b[32m'黎学亚'\u001b[0m, \u001b[32m'count'\u001b[0m: \u001b[32m'1'\u001b[0m, \u001b[32m'weight'\u001b[0m: \u001b[32m'35'\u001b[0m, \u001b[32m'price'\u001b[0m: \u001b[32m'83'\u001b[0m\u001b[1m}\u001b[0m,\n",
       "    \u001b[1m{\u001b[0m\u001b[32m'name'\u001b[0m: \u001b[32m'高乐道'\u001b[0m, \u001b[32m'count'\u001b[0m: \u001b[32m'1'\u001b[0m, \u001b[32m'weight'\u001b[0m: \u001b[32m'53'\u001b[0m, \u001b[32m'price'\u001b[0m: \u001b[32m'125'\u001b[0m\u001b[1m}\u001b[0m,\n",
       "    \u001b[1m{\u001b[0m\u001b[32m'name'\u001b[0m: \u001b[32m'合计'\u001b[0m, \u001b[32m'count'\u001b[0m: \u001b[32m'2'\u001b[0m, \u001b[32m'weight'\u001b[0m: \u001b[32m'88'\u001b[0m, \u001b[32m'price'\u001b[0m: \u001b[32m'208'\u001b[0m\u001b[1m}\u001b[0m\n",
       "\u001b[1m]\u001b[0m\n"
      ]
     },
     "metadata": {},
     "output_type": "display_data"
    }
   ],
   "source": [
    "parse_result"
   ]
  }
 ],
 "metadata": {
  "interpreter": {
   "hash": "70c4a468fdc9c22c342afa5b6162ed0d22ffd8ca39ab007ca3d25cf71bb23aa4"
  },
  "kernelspec": {
   "display_name": "Python 3.9.7 ('py39')",
   "language": "python",
   "name": "python3"
  },
  "language_info": {
   "codemirror_mode": {
    "name": "ipython",
    "version": 3
   },
   "file_extension": ".py",
   "mimetype": "text/x-python",
   "name": "python",
   "nbconvert_exporter": "python",
   "pygments_lexer": "ipython3",
   "version": "3.10.1"
  },
  "orig_nbformat": 4
 },
 "nbformat": 4,
 "nbformat_minor": 2
}
